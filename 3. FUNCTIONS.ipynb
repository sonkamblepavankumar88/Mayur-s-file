{
 "cells": [
  {
   "cell_type": "markdown",
   "id": "1c77a4e3",
   "metadata": {},
   "source": [
    "# PYTHON FUNCTION"
   ]
  },
  {
   "cell_type": "code",
   "execution_count": 13,
   "id": "63a6c6b8",
   "metadata": {},
   "outputs": [],
   "source": [
    "def sub(a,b):\n",
    "    c = a / b\n",
    "    print(f'Subtraction of {a} and {b} is {c}')\n",
    "    print(\"This is a simple Subtraction function\")\n"
   ]
  },
  {
   "cell_type": "code",
   "execution_count": 6,
   "id": "ca6f90fc",
   "metadata": {},
   "outputs": [
    {
     "name": "stdout",
     "output_type": "stream",
     "text": [
      "Subtraction of 78 and 8 is 70\n",
      "This is a simple Subtraction function\n"
     ]
    }
   ],
   "source": [
    "sub(78,8)"
   ]
  },
  {
   "cell_type": "code",
   "execution_count": 7,
   "id": "339eb2d8",
   "metadata": {},
   "outputs": [
    {
     "name": "stdout",
     "output_type": "stream",
     "text": [
      "addition of 2 and 8 is 10\n",
      "This is a simple addition function\n"
     ]
    }
   ],
   "source": [
    "sum(2,8)"
   ]
  },
  {
   "cell_type": "code",
   "execution_count": 14,
   "id": "83439247",
   "metadata": {},
   "outputs": [
    {
     "name": "stdout",
     "output_type": "stream",
     "text": [
      "Division of 14 and 7 is 2.0\n",
      "This is a simple Division function\n"
     ]
    }
   ],
   "source": [
    "div(14,7)"
   ]
  },
  {
   "cell_type": "code",
   "execution_count": 15,
   "id": "fb961129",
   "metadata": {},
   "outputs": [
    {
     "name": "stdout",
     "output_type": "stream",
     "text": [
      "Division of 8 and 6 is 1.3333333333333333\n",
      "This is a simple Division function\n"
     ]
    }
   ],
   "source": [
    "div(8,6)"
   ]
  },
  {
   "cell_type": "code",
   "execution_count": 19,
   "id": "e37a725d",
   "metadata": {},
   "outputs": [],
   "source": [
    "def calculate(a,b):\n",
    "    c = a + b\n",
    "    print(f'Addition of {a} and {b} is {c}')\n",
    "    c = a - b\n",
    "    print(f'Subtraction of {a} and {b} is {c}')\n",
    "    c = a * b\n",
    "    print(f'Multiplication of {a} and {b} is {c}')\n",
    "    c = a / b\n",
    "    print(f'Division of {a} and {b} is {c}')\n",
    "    c = a**2\n",
    "    print(f'Square of {a} is {c}')"
   ]
  },
  {
   "cell_type": "code",
   "execution_count": null,
   "id": "c57f16c9",
   "metadata": {},
   "outputs": [],
   "source": [
    "calculate(25,5)"
   ]
  },
  {
   "cell_type": "code",
   "execution_count": 6,
   "id": "a4fbb454",
   "metadata": {},
   "outputs": [
    {
     "name": "stdout",
     "output_type": "stream",
     "text": [
      "Enter value for x:\n",
      "45\n",
      "Enter value for y:\n",
      "5\n",
      "\n",
      "Addition of 45 and 5 is 50\n",
      "This is a simple Addition function\n"
     ]
    }
   ],
   "source": [
    "x =int(input(\"Enter value for x:\\n\"))\n",
    "y =int(input(\"Enter value for y:\\n\"))\n",
    "def sum(x,y):\n",
    "    c=x+y\n",
    "    print(f'\\nAddition of {x} and {y} is {c}')\n",
    "    print(\"This is a simple Addition function\")\n",
    "sum(x,y)"
   ]
  },
  {
   "cell_type": "markdown",
   "id": "da73f975",
   "metadata": {},
   "source": [
    "# GLOBAL AND LOCAL VARIABLES"
   ]
  },
  {
   "cell_type": "code",
   "execution_count": 12,
   "id": "59d43fd0",
   "metadata": {},
   "outputs": [
    {
     "name": "stdout",
     "output_type": "stream",
     "text": [
      "This is local variable.\n",
      "This is global variable.\n"
     ]
    }
   ],
   "source": [
    "global_var=\"This is global variable.\"\n",
    "\n",
    "def test_file_time():\n",
    "    \"\"\"\n",
    "    This function test life time of a variables.\n",
    "    \"\"\"\n",
    "    local_var=\"This is local variable.\"\n",
    "    print(local_var)   #prints local variable\n",
    "    print(global_var)  #prints global Variable\n",
    "test_file_time()  #function call"
   ]
  },
  {
   "cell_type": "code",
   "execution_count": 19,
   "id": "756729de",
   "metadata": {},
   "outputs": [
    {
     "ename": "NameError",
     "evalue": "name 'local_var' is not defined",
     "output_type": "error",
     "traceback": [
      "\u001b[1;31m---------------------------------------------------------------------------\u001b[0m",
      "\u001b[1;31mNameError\u001b[0m                                 Traceback (most recent call last)",
      "\u001b[1;32m~\\AppData\\Local\\Temp\\ipykernel_11236\\1084335655.py\u001b[0m in \u001b[0;36m<module>\u001b[1;34m\u001b[0m\n\u001b[1;32m----> 1\u001b[1;33m \u001b[0mlocal_var\u001b[0m\u001b[1;33m\u001b[0m\u001b[1;33m\u001b[0m\u001b[0m\n\u001b[0m",
      "\u001b[1;31mNameError\u001b[0m: name 'local_var' is not defined"
     ]
    }
   ],
   "source": [
    "local_var   #couldn't print outside function"
   ]
  },
  {
   "cell_type": "code",
   "execution_count": 16,
   "id": "f4d3a2f9",
   "metadata": {},
   "outputs": [
    {
     "data": {
      "text/plain": [
       "'This is global variable.'"
      ]
     },
     "execution_count": 16,
     "metadata": {},
     "output_type": "execute_result"
    }
   ],
   "source": [
    "global_var"
   ]
  },
  {
   "cell_type": "code",
   "execution_count": 5,
   "id": "8b4ef9bd",
   "metadata": {},
   "outputs": [],
   "source": [
    "global_variable=\"this is global variable\"\n",
    "a=16\n",
    "def new_fun():\n",
    "    local_variable=\"this is local variable\"\n",
    "    print(a)\n",
    "    c=15+2\n",
    "    print(c)"
   ]
  },
  {
   "cell_type": "code",
   "execution_count": 6,
   "id": "6a47965e",
   "metadata": {},
   "outputs": [
    {
     "data": {
      "text/plain": [
       "'this is global variable'"
      ]
     },
     "execution_count": 6,
     "metadata": {},
     "output_type": "execute_result"
    }
   ],
   "source": [
    "global_variable"
   ]
  },
  {
   "cell_type": "code",
   "execution_count": 7,
   "id": "4b179404",
   "metadata": {},
   "outputs": [
    {
     "data": {
      "text/plain": [
       "16"
      ]
     },
     "execution_count": 7,
     "metadata": {},
     "output_type": "execute_result"
    }
   ],
   "source": [
    "a"
   ]
  },
  {
   "cell_type": "code",
   "execution_count": 8,
   "id": "a48bab9c",
   "metadata": {},
   "outputs": [
    {
     "ename": "NameError",
     "evalue": "name 'loacl_variable' is not defined",
     "output_type": "error",
     "traceback": [
      "\u001b[1;31m---------------------------------------------------------------------------\u001b[0m",
      "\u001b[1;31mNameError\u001b[0m                                 Traceback (most recent call last)",
      "\u001b[1;32m~\\AppData\\Local\\Temp\\ipykernel_11088\\3321095682.py\u001b[0m in \u001b[0;36m<module>\u001b[1;34m\u001b[0m\n\u001b[1;32m----> 1\u001b[1;33m \u001b[0mloacl_variable\u001b[0m\u001b[1;33m\u001b[0m\u001b[1;33m\u001b[0m\u001b[0m\n\u001b[0m",
      "\u001b[1;31mNameError\u001b[0m: name 'loacl_variable' is not defined"
     ]
    }
   ],
   "source": [
    "loacl_variable"
   ]
  },
  {
   "cell_type": "code",
   "execution_count": 9,
   "id": "3113fea8",
   "metadata": {},
   "outputs": [
    {
     "ename": "NameError",
     "evalue": "name 'c' is not defined",
     "output_type": "error",
     "traceback": [
      "\u001b[1;31m---------------------------------------------------------------------------\u001b[0m",
      "\u001b[1;31mNameError\u001b[0m                                 Traceback (most recent call last)",
      "\u001b[1;32m~\\AppData\\Local\\Temp\\ipykernel_11088\\3235490055.py\u001b[0m in \u001b[0;36m<module>\u001b[1;34m\u001b[0m\n\u001b[1;32m----> 1\u001b[1;33m \u001b[0mc\u001b[0m\u001b[1;33m\u001b[0m\u001b[1;33m\u001b[0m\u001b[0m\n\u001b[0m",
      "\u001b[1;31mNameError\u001b[0m: name 'c' is not defined"
     ]
    }
   ],
   "source": [
    "c"
   ]
  },
  {
   "cell_type": "code",
   "execution_count": 10,
   "id": "8ccfa84a",
   "metadata": {},
   "outputs": [
    {
     "name": "stdout",
     "output_type": "stream",
     "text": [
      "16\n",
      "17\n"
     ]
    }
   ],
   "source": [
    "new_fun()"
   ]
  },
  {
   "cell_type": "code",
   "execution_count": 11,
   "id": "dd842e66",
   "metadata": {},
   "outputs": [],
   "source": [
    "def print_name():\n",
    "    name = 'Bharath'\n",
    "    print('Hello ' + name)"
   ]
  },
  {
   "cell_type": "code",
   "execution_count": 12,
   "id": "8eed3b81",
   "metadata": {},
   "outputs": [
    {
     "name": "stdout",
     "output_type": "stream",
     "text": [
      "Hello Bharath\n"
     ]
    }
   ],
   "source": [
    "print_name()"
   ]
  },
  {
   "cell_type": "markdown",
   "id": "6e8faf6a",
   "metadata": {},
   "source": [
    "# TYPES OF FUNCTIONS"
   ]
  },
  {
   "cell_type": "markdown",
   "id": "a2663b08",
   "metadata": {},
   "source": [
    "BUILT-IN FUNCTIONS"
   ]
  },
  {
   "cell_type": "code",
   "execution_count": 13,
   "id": "ff398a2a",
   "metadata": {},
   "outputs": [],
   "source": [
    "num = -10"
   ]
  },
  {
   "cell_type": "code",
   "execution_count": 14,
   "id": "59c18e57",
   "metadata": {},
   "outputs": [
    {
     "name": "stdout",
     "output_type": "stream",
     "text": [
      "10\n"
     ]
    }
   ],
   "source": [
    "print(abs(num))  #gives abselute value"
   ]
  },
  {
   "cell_type": "code",
   "execution_count": 15,
   "id": "9d54f65f",
   "metadata": {},
   "outputs": [],
   "source": [
    "lst=[1,2,3,4]"
   ]
  },
  {
   "cell_type": "code",
   "execution_count": 16,
   "id": "94f6337f",
   "metadata": {},
   "outputs": [
    {
     "name": "stdout",
     "output_type": "stream",
     "text": [
      "True\n"
     ]
    }
   ],
   "source": [
    "print(all(lst))"
   ]
  },
  {
   "cell_type": "code",
   "execution_count": 17,
   "id": "ddfc0cf9",
   "metadata": {},
   "outputs": [
    {
     "name": "stdout",
     "output_type": "stream",
     "text": [
      "False\n"
     ]
    }
   ],
   "source": [
    "lst=[0,2,3,6,4]\n",
    "print(all(lst))"
   ]
  },
  {
   "cell_type": "code",
   "execution_count": 18,
   "id": "0a0bdae1",
   "metadata": {},
   "outputs": [
    {
     "data": {
      "text/plain": [
       "['__abs__',\n",
       " '__add__',\n",
       " '__and__',\n",
       " '__bool__',\n",
       " '__ceil__',\n",
       " '__class__',\n",
       " '__delattr__',\n",
       " '__dir__',\n",
       " '__divmod__',\n",
       " '__doc__',\n",
       " '__eq__',\n",
       " '__float__',\n",
       " '__floor__',\n",
       " '__floordiv__',\n",
       " '__format__',\n",
       " '__ge__',\n",
       " '__getattribute__',\n",
       " '__getnewargs__',\n",
       " '__gt__',\n",
       " '__hash__',\n",
       " '__index__',\n",
       " '__init__',\n",
       " '__init_subclass__',\n",
       " '__int__',\n",
       " '__invert__',\n",
       " '__le__',\n",
       " '__lshift__',\n",
       " '__lt__',\n",
       " '__mod__',\n",
       " '__mul__',\n",
       " '__ne__',\n",
       " '__neg__',\n",
       " '__new__',\n",
       " '__or__',\n",
       " '__pos__',\n",
       " '__pow__',\n",
       " '__radd__',\n",
       " '__rand__',\n",
       " '__rdivmod__',\n",
       " '__reduce__',\n",
       " '__reduce_ex__',\n",
       " '__repr__',\n",
       " '__rfloordiv__',\n",
       " '__rlshift__',\n",
       " '__rmod__',\n",
       " '__rmul__',\n",
       " '__ror__',\n",
       " '__round__',\n",
       " '__rpow__',\n",
       " '__rrshift__',\n",
       " '__rshift__',\n",
       " '__rsub__',\n",
       " '__rtruediv__',\n",
       " '__rxor__',\n",
       " '__setattr__',\n",
       " '__sizeof__',\n",
       " '__str__',\n",
       " '__sub__',\n",
       " '__subclasshook__',\n",
       " '__truediv__',\n",
       " '__trunc__',\n",
       " '__xor__',\n",
       " 'as_integer_ratio',\n",
       " 'bit_length',\n",
       " 'conjugate',\n",
       " 'denominator',\n",
       " 'from_bytes',\n",
       " 'imag',\n",
       " 'numerator',\n",
       " 'real',\n",
       " 'to_bytes']"
      ]
     },
     "execution_count": 18,
     "metadata": {},
     "output_type": "execute_result"
    }
   ],
   "source": [
    "dir(num)"
   ]
  },
  {
   "cell_type": "code",
   "execution_count": 19,
   "id": "87be1f06",
   "metadata": {},
   "outputs": [
    {
     "name": "stdout",
     "output_type": "stream",
     "text": [
      "(7, 3)\n"
     ]
    }
   ],
   "source": [
    "print(divmod(45,6))  #print quetient and remainder as a tuple"
   ]
  },
  {
   "cell_type": "code",
   "execution_count": 20,
   "id": "77cb5209",
   "metadata": {},
   "outputs": [
    {
     "name": "stdout",
     "output_type": "stream",
     "text": [
      "a\n",
      "b\n",
      "c\n",
      "d\n"
     ]
    }
   ],
   "source": [
    "mylist = ['a','b','c','d']\n",
    "for i in mylist:\n",
    "    print(i)"
   ]
  },
  {
   "cell_type": "code",
   "execution_count": 21,
   "id": "1d1aefb6",
   "metadata": {},
   "outputs": [
    {
     "name": "stdout",
     "output_type": "stream",
     "text": [
      "0 a\n",
      "1 b\n",
      "2 c\n",
      "3 d\n"
     ]
    }
   ],
   "source": [
    "for index,value in enumerate(mylist):\n",
    "    print(index, value)"
   ]
  },
  {
   "cell_type": "code",
   "execution_count": 22,
   "id": "c2294e93",
   "metadata": {},
   "outputs": [
    {
     "name": "stdout",
     "output_type": "stream",
     "text": [
      "Index 10 has value 10\n",
      "Index 11 has value 20\n",
      "Index 12 has value 30\n",
      "Index 13 has value 40\n"
     ]
    }
   ],
   "source": [
    "numbers = [10,20,30,40]\n",
    "\n",
    "for index,value in enumerate(numbers,10):\n",
    "    print('Index {0} has value {1}'.format(index,value))"
   ]
  },
  {
   "cell_type": "code",
   "execution_count": 23,
   "id": "b2667270",
   "metadata": {},
   "outputs": [],
   "source": [
    "def find_positive_numbers(num):\n",
    "    if num>0:\n",
    "        return num"
   ]
  },
  {
   "cell_type": "code",
   "execution_count": 24,
   "id": "0531a71f",
   "metadata": {},
   "outputs": [
    {
     "name": "stdout",
     "output_type": "stream",
     "text": [
      "[-10, -9, -8, -7, -6, -5, -4, -3, -2, -1, 0, 1, 2, 3, 4, 5, 6, 7, 8, 9]\n",
      "\n",
      "\n",
      "[1, 2, 3, 4, 5, 6, 7, 8, 9]\n"
     ]
    }
   ],
   "source": [
    "num_list = range(-10,10)\n",
    "print(list(num_list))\n",
    "print('\\n')\n",
    "\n",
    "positive_num_list = list(filter(find_positive_numbers,num_list))\n",
    "\n",
    "print(positive_num_list)"
   ]
  },
  {
   "cell_type": "code",
   "execution_count": 25,
   "id": "134ae490",
   "metadata": {},
   "outputs": [],
   "source": [
    "def find_negative_numbers(num):\n",
    "    if num<0:\n",
    "        return num"
   ]
  },
  {
   "cell_type": "code",
   "execution_count": 26,
   "id": "e4281a37",
   "metadata": {},
   "outputs": [
    {
     "name": "stdout",
     "output_type": "stream",
     "text": [
      "[-15, -14, -13, -12, -11, -10, -9, -8, -7, -6, -5, -4, -3, -2, -1]\n"
     ]
    }
   ],
   "source": [
    "num_list = range(-15,10)\n",
    "\n",
    "negative_num_list = list(filter(find_negative_numbers,num_list))\n",
    "\n",
    "print(negative_num_list)"
   ]
  },
  {
   "cell_type": "code",
   "execution_count": 27,
   "id": "8963e756",
   "metadata": {},
   "outputs": [],
   "source": [
    "lst1=[1,2,3,4]"
   ]
  },
  {
   "cell_type": "code",
   "execution_count": 28,
   "id": "189aa376",
   "metadata": {},
   "outputs": [
    {
     "name": "stdout",
     "output_type": "stream",
     "text": [
      "[1, 4, 9, 16]\n"
     ]
    }
   ],
   "source": [
    "numbers = [1,2,3,4]\n",
    "\n",
    "squared = []\n",
    "for num in numbers:\n",
    "    squared.append(num**2)\n",
    "    \n",
    "print(squared)"
   ]
  },
  {
   "cell_type": "code",
   "execution_count": 5,
   "id": "5e1c1ae1",
   "metadata": {},
   "outputs": [
    {
     "name": "stdout",
     "output_type": "stream",
     "text": [
      "[1, 4, 9, 16]\n"
     ]
    }
   ],
   "source": [
    "numbers = [1,2,3,4]\n",
    "\n",
    "def poweroftwo(num):\n",
    "    return num**2\n",
    "\n",
    "squared = list(map(poweroftwo,numbers))\n",
    "print(squared)"
   ]
  },
  {
   "cell_type": "code",
   "execution_count": 7,
   "id": "86ca308f",
   "metadata": {},
   "outputs": [
    {
     "name": "stdout",
     "output_type": "stream",
     "text": [
      "30\n"
     ]
    }
   ],
   "source": [
    "product = 1\n",
    "lst2 = [1,2,3,5]\n",
    "for num in lst2:\n",
    "    product *= num\n",
    "print(product)"
   ]
  },
  {
   "cell_type": "code",
   "execution_count": 9,
   "id": "323f8b8d",
   "metadata": {},
   "outputs": [
    {
     "name": "stdout",
     "output_type": "stream",
     "text": [
      "30\n"
     ]
    }
   ],
   "source": [
    "from functools import reduce\n",
    "def multiply(x,y):\n",
    "    return x*y;\n",
    "\n",
    "product = reduce(multiply,lst2)\n",
    "\n",
    "print(product)\n"
   ]
  },
  {
   "cell_type": "code",
   "execution_count": 40,
   "id": "e973afd2",
   "metadata": {},
   "outputs": [],
   "source": [
    "def multiply():\n",
    "    a = int(input('enter 1st number '))\n",
    "    b = int(input('enter 2nd number '))\n",
    "    c = a*b\n",
    "    print('\\n')\n",
    "    #print('multiplication of {0} and {1} is {2}'.format(a,b,c))\n",
    "    print(f'multiplication of {a} and {b} is {c}')"
   ]
  },
  {
   "cell_type": "code",
   "execution_count": 41,
   "id": "007bf625",
   "metadata": {},
   "outputs": [
    {
     "name": "stdout",
     "output_type": "stream",
     "text": [
      "enter 1st number 8\n",
      "enter 2nd number 9\n",
      "\n",
      "\n",
      "multiplication of 8 and 9 is 72\n"
     ]
    }
   ],
   "source": [
    "multiply()"
   ]
  },
  {
   "cell_type": "code",
   "execution_count": 3,
   "id": "6327a8a5",
   "metadata": {},
   "outputs": [
    {
     "name": "stdout",
     "output_type": "stream",
     "text": [
      "True\n",
      "False\n"
     ]
    }
   ],
   "source": [
    "lst4 = [1,2,3,4]\n",
    "print(isinstance(lst4,list))\n",
    "\n",
    "#try with other datatypes tuple, set\n",
    "t = (1,2,3,4)\n",
    "print(isinstance(t,list))"
   ]
  },
  {
   "cell_type": "code",
   "execution_count": 16,
   "id": "15b653ba",
   "metadata": {},
   "outputs": [
    {
     "name": "stdout",
     "output_type": "stream",
     "text": [
      "[1, 2, 3, 4, 5, 6, 8]\n",
      "\n",
      "29\n"
     ]
    }
   ],
   "source": [
    "from functools import reduce\n",
    "\n",
    "lst6 = [1,2,3,4,5,6,8]\n",
    "print(lst6)\n",
    "\n",
    "def addition(x,y):\n",
    "    return x+y\n",
    "\n",
    "add_value = reduce(addition,lst6)\n",
    "\n",
    "print(\"\\n{0}\".format(add_value))"
   ]
  },
  {
   "cell_type": "markdown",
   "id": "0d794b8f",
   "metadata": {},
   "source": [
    "USER-DEFINED FUNCTIONS"
   ]
  },
  {
   "cell_type": "code",
   "execution_count": 18,
   "id": "e6b5cb70",
   "metadata": {},
   "outputs": [
    {
     "name": "stdout",
     "output_type": "stream",
     "text": [
      "product of 10 and  20 is 200.\n"
     ]
    }
   ],
   "source": [
    "def product_numbers(a,b):\n",
    "    product = a*b\n",
    "    return product\n",
    "\n",
    "num1 = 10\n",
    "num2 = 20\n",
    "\n",
    "print(\"product of {0} and  {1} is {2}.\".format(num1,num2,product_numbers(num1,num2)))"
   ]
  },
  {
   "cell_type": "code",
   "execution_count": null,
   "id": "8facb581",
   "metadata": {},
   "outputs": [],
   "source": [
    "def add(a,b):\n",
    "    return a+b\n",
    "\n",
    "def multiply(a,b):\n",
    "    return a*b\n",
    "\n",
    "def subtract(a,b):\n",
    "    return a-b\n",
    "\n",
    "def division(a,b):\n",
    "    return a/b\n",
    "\n",
    "print(\"Select Option\")\n",
    "print(\"1. Addition\")\n",
    "print(\"2 Subtraction\")\n",
    "print(\"3. Multiplication\")\n",
    "print(\"4. Division\")\n",
    "\n",
    "choice = int(input(\"Enter your choise 1/2/3/4.\"))\n",
    "\n",
    "num1 = float(input(\"Enter first number:\"))\n",
    "num2 = float(input(\"Enter second number\"))\n",
    "\n",
    "if choice == 1:\n",
    "    print(\"Addition of {0} and {1} is {2}.\".format(num1,num2,add(num1,num2)))\n",
    "elif choice == 2:\n",
    "    print(\"Subtraction of {0} and {1} is {2}.\".format(num1,num2,subtract(num1,num2)))\n",
    "elif choice == 3:\n",
    "    print(\"Multiplicaton of {0} and {1} is {2}.\".format(num1,num2,multiply(num1,num2)))\n",
    "elif choice== 4:\n",
    "    print(\"Division of {0} and {1} is {2}.\".format(num1,num2,division(num1,num2)))\n",
    "else:\n",
    "    print(\"Invalid choice\")"
   ]
  },
  {
   "cell_type": "code",
   "execution_count": 34,
   "id": "ff679e99",
   "metadata": {},
   "outputs": [
    {
     "name": "stdout",
     "output_type": "stream",
     "text": [
      "Hello Mayur, How are you?\n",
      "Hello Pawan, Good Morning. What are you doing?\n"
     ]
    }
   ],
   "source": [
    "def greet(name,msg=):\n",
    "    print(\"Hello {0}, {1}\".format(name,msg))\n",
    "    \n",
    "greet(\"Mayur\",\"How are you?\")\n",
    "greet(\"Pawan\",\"Good Morning. What are you doing?\")"
   ]
  },
  {
   "cell_type": "code",
   "execution_count": 37,
   "id": "11c1b501",
   "metadata": {},
   "outputs": [
    {
     "ename": "TypeError",
     "evalue": "greet() missing 1 required positional argument: 'msg'",
     "output_type": "error",
     "traceback": [
      "\u001b[1;31m---------------------------------------------------------------------------\u001b[0m",
      "\u001b[1;31mTypeError\u001b[0m                                 Traceback (most recent call last)",
      "\u001b[1;32m~\\AppData\\Local\\Temp\\ipykernel_15004\\3957382973.py\u001b[0m in \u001b[0;36m<module>\u001b[1;34m\u001b[0m\n\u001b[1;32m----> 1\u001b[1;33m \u001b[0mgreet\u001b[0m\u001b[1;33m(\u001b[0m\u001b[1;34m\"Aniket\"\u001b[0m\u001b[1;33m)\u001b[0m\u001b[1;33m\u001b[0m\u001b[1;33m\u001b[0m\u001b[0m\n\u001b[0m",
      "\u001b[1;31mTypeError\u001b[0m: greet() missing 1 required positional argument: 'msg'"
     ]
    }
   ],
   "source": [
    "greet(\"Aniket\") #One argument is missing here in function call."
   ]
  },
  {
   "cell_type": "code",
   "execution_count": 4,
   "id": "5edee93a",
   "metadata": {},
   "outputs": [
    {
     "name": "stdout",
     "output_type": "stream",
     "text": [
      "Hello Mayur, How are you?\n",
      "Hello Pawan, Good Morning. What are you doing?\n",
      "Hello Nitin, Good Morning\n"
     ]
    }
   ],
   "source": [
    "def greet(name,msg=\"Good Morning\"):\n",
    "    print(\"Hello {0}, {1}\".format(name,msg))\n",
    "    \n",
    "greet(\"Mayur\",\"How are you?\")\n",
    "greet(\"Pawan\",\"Good Morning. What are you doing?\")\n",
    "greet(\"Nitin\")"
   ]
  },
  {
   "cell_type": "code",
   "execution_count": 39,
   "id": "443635b5",
   "metadata": {},
   "outputs": [
    {
     "name": "stdout",
     "output_type": "stream",
     "text": [
      "Hello Mayur\n",
      "Hello Pawan\n",
      "Hello Aniket\n"
     ]
    }
   ],
   "source": [
    "def greet(*names):\n",
    "    for name in names:\n",
    "        print(\"Hello {0}\".format(name))\n",
    "        \n",
    "greet(\"Mayur\",\"Pawan\",\"Aniket\")"
   ]
  },
  {
   "cell_type": "code",
   "execution_count": 2,
   "id": "19e7ed94",
   "metadata": {},
   "outputs": [
    {
     "name": "stdout",
     "output_type": "stream",
     "text": [
      "Hello Mayur, Good Morning.\n"
     ]
    }
   ],
   "source": [
    "def greet(**kwargs):\n",
    "    if kwargs:\n",
    "        print(\"Hello {0}, {1}.\".format(kwargs['name'], kwargs['msg']))\n",
    "greet(name=\"Mayur\", msg=\"Good Morning\")"
   ]
  },
  {
   "cell_type": "code",
   "execution_count": 4,
   "id": "64ab2c4f",
   "metadata": {},
   "outputs": [],
   "source": [
    "def sumlist(*args):\n",
    "    sum=0\n",
    "    for i in args:\n",
    "        sum += i\n",
    "    return sum"
   ]
  },
  {
   "cell_type": "code",
   "execution_count": 5,
   "id": "681207c4",
   "metadata": {},
   "outputs": [
    {
     "data": {
      "text/plain": [
       "18"
      ]
     },
     "execution_count": 5,
     "metadata": {},
     "output_type": "execute_result"
    }
   ],
   "source": [
    "sumlist(1,5,4,8)"
   ]
  },
  {
   "cell_type": "code",
   "execution_count": 9,
   "id": "82b23a07",
   "metadata": {},
   "outputs": [
    {
     "ename": "SyntaxError",
     "evalue": "invalid syntax (3382186248.py, line 1)",
     "output_type": "error",
     "traceback": [
      "\u001b[1;36m  File \u001b[1;32m\"C:\\Users\\mdnan\\AppData\\Local\\Temp\\ipykernel_23152\\3382186248.py\"\u001b[1;36m, line \u001b[1;32m1\u001b[0m\n\u001b[1;33m    def myfun(args1, **kw, *args):\u001b[0m\n\u001b[1;37m                           ^\u001b[0m\n\u001b[1;31mSyntaxError\u001b[0m\u001b[1;31m:\u001b[0m invalid syntax\n"
     ]
    }
   ],
   "source": [
    "def myfun(args1, **kw, *args):\n",
    "    "
   ]
  },
  {
   "cell_type": "markdown",
   "id": "ea2359e5",
   "metadata": {},
   "source": [
    "# LAMDA / ANONYMOUS FUNCTION IN PYTHON"
   ]
  },
  {
   "cell_type": "code",
   "execution_count": 11,
   "id": "2e9764ac",
   "metadata": {},
   "outputs": [
    {
     "name": "stdout",
     "output_type": "stream",
     "text": [
      "18\n"
     ]
    }
   ],
   "source": [
    "x = lambda a,b,c:a+b+c\n",
    "print(x(7,8,3))"
   ]
  },
  {
   "cell_type": "code",
   "execution_count": 12,
   "id": "2dd0d603",
   "metadata": {},
   "outputs": [
    {
     "name": "stdout",
     "output_type": "stream",
     "text": [
      "16\n"
     ]
    }
   ],
   "source": [
    "double = lambda x:x*2\n",
    "print(double(8))"
   ]
  },
  {
   "cell_type": "code",
   "execution_count": 13,
   "id": "5e3ee888",
   "metadata": {},
   "outputs": [
    {
     "name": "stdout",
     "output_type": "stream",
     "text": [
      "10\n"
     ]
    }
   ],
   "source": [
    "def double(x):\n",
    "    return x * 2\n",
    "\n",
    "print(double(5))"
   ]
  },
  {
   "cell_type": "code",
   "execution_count": 14,
   "id": "4b32e56d",
   "metadata": {},
   "outputs": [
    {
     "data": {
      "text/plain": [
       "<function __main__.<lambda>(x)>"
      ]
     },
     "execution_count": 14,
     "metadata": {},
     "output_type": "execute_result"
    }
   ],
   "source": [
    "lambda x:x*2"
   ]
  },
  {
   "cell_type": "code",
   "execution_count": 16,
   "id": "0fbffc6f",
   "metadata": {},
   "outputs": [],
   "source": [
    "def get_even(mylist):\n",
    "    filter_list=[]\n",
    "    for i in mylist:\n",
    "        if i%2==0:\n",
    "            filter_list.append(i)\n",
    "            \n",
    "    return filter_list"
   ]
  },
  {
   "cell_type": "code",
   "execution_count": 21,
   "id": "87765502",
   "metadata": {},
   "outputs": [
    {
     "data": {
      "text/plain": [
       "[8, 6, 4]"
      ]
     },
     "execution_count": 21,
     "metadata": {},
     "output_type": "execute_result"
    }
   ],
   "source": [
    "list1 = [8,6,5,4,3]\n",
    "get_even(list1)"
   ]
  },
  {
   "cell_type": "code",
   "execution_count": 23,
   "id": "7d1b91cf",
   "metadata": {},
   "outputs": [
    {
     "data": {
      "text/plain": [
       "[6, 8]"
      ]
     },
     "execution_count": 23,
     "metadata": {},
     "output_type": "execute_result"
    }
   ],
   "source": [
    "lst = [1,5,6,7,8,9]\n",
    "list(filter(lambda x:(x%2==0),lst))"
   ]
  },
  {
   "cell_type": "code",
   "execution_count": 25,
   "id": "c1de555c",
   "metadata": {},
   "outputs": [
    {
     "name": "stdout",
     "output_type": "stream",
     "text": [
      "[1, 4, 9, 16, 25]\n",
      "(1, 4, 9, 16, 25, 36, 49)\n"
     ]
    }
   ],
   "source": [
    "i_list = [1,2,3,4,5]\n",
    "i_tuple = (1,2,3,4,5,6,7)\n",
    "\n",
    "new_lst = list(map(lambda x:x**2, i_list))\n",
    "print(new_lst)\n",
    "new_tuple = tuple(map(lambda x:x**2,i_tuple))\n",
    "print(new_tuple)"
   ]
  },
  {
   "cell_type": "markdown",
   "id": "9bbbcb93",
   "metadata": {},
   "source": [
    "# RECURSSIVE FUNCTION"
   ]
  },
  {
   "cell_type": "code",
   "execution_count": 16,
   "id": "a2c0655c",
   "metadata": {},
   "outputs": [],
   "source": [
    "def fact(n):\n",
    "    product=1\n",
    "    for i in range (n,0,-1):\n",
    "        product*=i\n",
    "    return product"
   ]
  },
  {
   "cell_type": "code",
   "execution_count": 20,
   "id": "b9caf34b",
   "metadata": {},
   "outputs": [
    {
     "data": {
      "text/plain": [
       "120"
      ]
     },
     "execution_count": 20,
     "metadata": {},
     "output_type": "execute_result"
    }
   ],
   "source": [
    "fact(5)"
   ]
  },
  {
   "cell_type": "code",
   "execution_count": 2,
   "id": "93d24116",
   "metadata": {},
   "outputs": [
    {
     "name": "stdout",
     "output_type": "stream",
     "text": [
      "factorial of 5 is 120.\n"
     ]
    }
   ],
   "source": [
    "def factorial(num):\n",
    "    return 1 if num==1 else (num*factorial(num-1))\n",
    "\n",
    "n = 5\n",
    "print(\"factorial of {0} is {1}.\".format(n,factorial(n)))"
   ]
  },
  {
   "cell_type": "code",
   "execution_count": 28,
   "id": "2bd6c4a7",
   "metadata": {},
   "outputs": [
    {
     "name": "stdout",
     "output_type": "stream",
     "text": [
      "Enter how many fibonacci elements you want\n",
      "5\n",
      "Fibonacci sequence\n",
      "0\n",
      "1\n",
      "1\n",
      "2\n",
      "3\n"
     ]
    }
   ],
   "source": [
    "def fibonacci(num):\n",
    "    \n",
    "    return num if num<=1 else fibonacci(num-1)+fibonacci(num-2)\n",
    "\n",
    "n = int(input(\"Enter how many fibonacci elements you want\\n\"))\n",
    "print(\"Fibonacci sequence\")\n",
    "\n",
    "for number in range (n):\n",
    "    print(fibonacci(number))"
   ]
  },
  {
   "cell_type": "code",
   "execution_count": 27,
   "id": "755558ef",
   "metadata": {},
   "outputs": [
    {
     "name": "stdout",
     "output_type": "stream",
     "text": [
      "Enter how many fibonacci elements you want:-  8\n",
      "0\n",
      "1\n",
      "1\n",
      "2\n",
      "3\n",
      "5\n",
      "8\n",
      "13\n"
     ]
    }
   ],
   "source": [
    "n = int(input(\"Enter how many fibonacci elements you want:-  \"))\n",
    "\n",
    "n1=0\n",
    "n2=1\n",
    "\n",
    "print(n1)\n",
    "print(n2)\n",
    "\n",
    "for i in range(2,n):\n",
    "    n3 = n1+n2\n",
    "    print(n3)\n",
    "    n1=n2\n",
    "    n2=n3"
   ]
  },
  {
   "cell_type": "code",
   "execution_count": 30,
   "id": "a75f2443",
   "metadata": {},
   "outputs": [],
   "source": []
  }
 ],
 "metadata": {
  "kernelspec": {
   "display_name": "Python 3 (ipykernel)",
   "language": "python",
   "name": "python3"
  },
  "language_info": {
   "codemirror_mode": {
    "name": "ipython",
    "version": 3
   },
   "file_extension": ".py",
   "mimetype": "text/x-python",
   "name": "python",
   "nbconvert_exporter": "python",
   "pygments_lexer": "ipython3",
   "version": "3.9.13"
  }
 },
 "nbformat": 4,
 "nbformat_minor": 5
}
